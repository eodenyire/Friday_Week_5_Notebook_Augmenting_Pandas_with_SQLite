{
  "nbformat": 4,
  "nbformat_minor": 0,
  "metadata": {
    "colab": {
      "provenance": [],
      "toc_visible": true
    },
    "kernelspec": {
      "name": "python3",
      "display_name": "Python 3"
    },
    "language_info": {
      "name": "python"
    }
  },
  "cells": [
    {
      "cell_type": "markdown",
      "metadata": {
        "id": "2ZK7M8-wZ_J8"
      },
      "source": [
        "# Project Notebook: Augmenting Pandas with SQLite"
      ]
    },
    {
      "cell_type": "markdown",
      "metadata": {
        "id": "qadTA4HuceEl"
      },
      "source": [
        "## Question 1: Introduction"
      ]
    },
    {
      "cell_type": "markdown",
      "metadata": {
        "id": "aF9k8rixclSR"
      },
      "source": [
        "In this session, we explored a few different ways to work with larger datasets in pandas. In this guided project, we'll practice using some of the techniques we learned to analyze startup investments from Crunchbase.com.\n",
        "\n",
        "Every year, thousands of startup companies raise financing from investors. Each time a startup raises money, we refer to the event as a fundraising round. Crunchbase is a website that crowdsources information on the fundraising rounds of many startups. The Crunchbase user community submits, edits, and maintains most of the information in Crunchbase.\n",
        "\n",
        "In return, Crunchbase makes the data available through a Web application and a fee-based API. Before Crunchbase switched to the paid API model, multiple groups crawled the site and released the data online. Because the information on the startups and their fundraising rounds is always changing, the data set we'll be using isn't completely up to date.\n",
        "\n",
        "Throughout this project, we'll practice working with different memory constraints. In this step, let's assume we only have 10 megabytes of available memory. While crunchbase-investments.csv (https://bit.ly/3BPcobU) consumes 10.3 megabytes of disk space, we know from earlier lessons that pandas often requires 4 to 6 times amount of space in memory as the file does on disk (especially when there's many string columns).\n",
        "\n",
        "\n",
        "**Tasks**\n",
        "\n",
        "* Because the data set contains over 50,000 rows, you'll need to read the data set into dataframes using 5,000 row chunks to ensure that each chunk consumes much less than 10 megabytes of memory.\n",
        "* Across all of the chunks, become familiar with:\n",
        "1. Each column's missing value counts.\n",
        "2. Each column's memory footprint.\n",
        "3. The total memory footprint of all of the chunks combined.\n",
        "4. Which column(s) we can drop because they aren't useful for analysis.\n",
        "\n"
      ]
    },
    {
      "cell_type": "markdown",
      "source": [
        "*Reading the Crunchbase data in chunks of 5000 rows, then print the first 5 rows of each chunk. We need to see the data and make sure that the chunks are being read correctly by pandas. The encoding parameter is set to 'unicode_escape' to properly handle any special characters in the data.*"
      ],
      "metadata": {
        "id": "2jC2N6KAbJXc"
      }
    },
    {
      "cell_type": "code",
      "metadata": {
        "id": "tOYoNl5qe1ow",
        "colab": {
          "base_uri": "https://localhost:8080/"
        },
        "outputId": "0e4cf60e-ea98-4c25-93c1-cd24494d34aa"
      },
      "source": [
        "# Your code goes here\n",
        "url = \"https://bit.ly/3BPcobU\"\n",
        "#\n",
        "import pandas as pd\n",
        "for crunchbase in  pd.read_csv(url, encoding='unicode_escape', chunksize = 5000):\n",
        "  print(crunchbase.head(5))\n",
        "\n"
      ],
      "execution_count": null,
      "outputs": [
        {
          "output_type": "stream",
          "name": "stdout",
          "text": [
            "     company_permalink company_name company_category_code  \\\n",
            "0    /company/advercar     AdverCar           advertising   \n",
            "1  /company/launchgram   LaunchGram                  news   \n",
            "2        /company/utap         uTaP             messaging   \n",
            "3    /company/zoopshop     ZoopShop              software   \n",
            "4    /company/efuneral     eFuneral                   web   \n",
            "\n",
            "  company_country_code company_state_code         company_region  \\\n",
            "0                  USA                 CA                 SF Bay   \n",
            "1                  USA                 CA                 SF Bay   \n",
            "2                  USA                NaN  United States - Other   \n",
            "3                  USA                 OH               Columbus   \n",
            "4                  USA                 OH              Cleveland   \n",
            "\n",
            "    company_city          investor_permalink      investor_name  \\\n",
            "0  San Francisco  /company/1-800-flowers-com  1-800-FLOWERS.COM   \n",
            "1  Mountain View        /company/10xelerator        10Xelerator   \n",
            "2            NaN        /company/10xelerator        10Xelerator   \n",
            "3       columbus        /company/10xelerator        10Xelerator   \n",
            "4      Cleveland        /company/10xelerator        10Xelerator   \n",
            "\n",
            "  investor_category_code investor_country_code investor_state_code  \\\n",
            "0                    NaN                   USA                  NY   \n",
            "1                finance                   USA                  OH   \n",
            "2                finance                   USA                  OH   \n",
            "3                finance                   USA                  OH   \n",
            "4                finance                   USA                  OH   \n",
            "\n",
            "  investor_region investor_city funding_round_type   funded_at funded_month  \\\n",
            "0        New York      New York           series-a  2012-10-30      2012-10   \n",
            "1        Columbus      Columbus              other  2012-01-23      2012-01   \n",
            "2        Columbus      Columbus              other  2012-01-01      2012-01   \n",
            "3        Columbus      Columbus              angel  2012-02-15      2012-02   \n",
            "4        Columbus      Columbus              other  2011-09-08      2011-09   \n",
            "\n",
            "  funded_quarter  funded_year  raised_amount_usd  \n",
            "0        2012-Q4         2012          2000000.0  \n",
            "1        2012-Q1         2012            20000.0  \n",
            "2        2012-Q1         2012            20000.0  \n",
            "3        2012-Q1         2012            20000.0  \n",
            "4        2011-Q3         2011            20000.0  \n",
            "                       company_permalink               company_name  \\\n",
            "5000              /company/visible-world              Visible World   \n",
            "5001                     /company/obopay                     obopay   \n",
            "5002                    /company/jumptap                    Jumptap   \n",
            "5003  /company/avid-radiopharmaceuticals  Avid Radiopharmaceuticals   \n",
            "5004  /company/avid-radiopharmaceuticals  Avid Radiopharmaceuticals   \n",
            "\n",
            "     company_category_code company_country_code company_state_code  \\\n",
            "5000           advertising                  USA                 NY   \n",
            "5001                mobile                  USA                 CA   \n",
            "5002                mobile                  USA                 MA   \n",
            "5003               biotech                  USA                 PA   \n",
            "5004               biotech                  USA                 PA   \n",
            "\n",
            "     company_region  company_city                         investor_permalink  \\\n",
            "5000       New York      New York  /financial-organization/alliancebernstein   \n",
            "5001         SF Bay  Redwood City  /financial-organization/alliancebernstein   \n",
            "5002         Boston        Boston  /financial-organization/alliancebernstein   \n",
            "5003   Philadelphia  Philadelphia  /financial-organization/alliancebernstein   \n",
            "5004   Philadelphia  Philadelphia  /financial-organization/alliancebernstein   \n",
            "\n",
            "          investor_name  investor_category_code investor_country_code  \\\n",
            "5000  AllianceBernstein                     NaN                   USA   \n",
            "5001  AllianceBernstein                     NaN                   USA   \n",
            "5002  AllianceBernstein                     NaN                   USA   \n",
            "5003  AllianceBernstein                     NaN                   USA   \n",
            "5004  AllianceBernstein                     NaN                   USA   \n",
            "\n",
            "     investor_state_code investor_region investor_city funding_round_type  \\\n",
            "5000                  NY        New York      New York          series-c+   \n",
            "5001                  NY        New York      New York          series-c+   \n",
            "5002                  NY        New York      New York          series-c+   \n",
            "5003                  NY        New York      New York          series-c+   \n",
            "5004                  NY        New York      New York          series-c+   \n",
            "\n",
            "       funded_at funded_month funded_quarter  funded_year  raised_amount_usd  \n",
            "5000  2008-04-14      2008-04        2008-Q2         2008         25000000.0  \n",
            "5001  2008-04-21      2008-04        2008-Q2         2008         20000000.0  \n",
            "5002  2008-08-26      2008-08        2008-Q3         2008         26000000.0  \n",
            "5003  2009-05-21      2009-05        2009-Q2         2009         34500000.0  \n",
            "5004  2007-05-09      2007-05        2007-Q2         2007         26000000.0  \n",
            "                   company_permalink          company_name  \\\n",
            "10000                   /company/zag                   Zag   \n",
            "10001          /company/frx-polymers          FRX Polymers   \n",
            "10002       /company/targeted-growth       Targeted Growth   \n",
            "10003  /company/mendel-biotechnology  Mendel Biotechnology   \n",
            "10004          /company/frx-polymers          FRX Polymers   \n",
            "\n",
            "      company_category_code company_country_code company_state_code  \\\n",
            "10000                search                  USA                 CA   \n",
            "10001             cleantech                  USA                 MA   \n",
            "10002               biotech                  USA                 WA   \n",
            "10003               biotech                  USA                 CA   \n",
            "10004             cleantech                  USA                 MA   \n",
            "\n",
            "      company_region  company_city  \\\n",
            "10000    Los Angeles  Santa Monica   \n",
            "10001         Boston    Chelmsford   \n",
            "10002        Seattle       Seattle   \n",
            "10003         SF Bay       Hayward   \n",
            "10004         Boston    Chelmsford   \n",
            "\n",
            "                                      investor_permalink  \\\n",
            "10000       /financial-organization/capricorn-management   \n",
            "10001       /financial-organization/capricorn-management   \n",
            "10002       /financial-organization/capricorn-management   \n",
            "10003  /financial-organization/capricorn-venture-part...   \n",
            "10004  /financial-organization/capricorn-venture-part...   \n",
            "\n",
            "                    investor_name  investor_category_code  \\\n",
            "10000        Capricorn Management                     NaN   \n",
            "10001        Capricorn Management                     NaN   \n",
            "10002        Capricorn Management                     NaN   \n",
            "10003  Capricorn Venture Partners                     NaN   \n",
            "10004  Capricorn Venture Partners                     NaN   \n",
            "\n",
            "      investor_country_code investor_state_code investor_region investor_city  \\\n",
            "10000                   USA                  CT        New York     Greenwich   \n",
            "10001                   USA                  CT        New York     Greenwich   \n",
            "10002                   USA                  CT        New York     Greenwich   \n",
            "10003                   BEL                 NaN          Leuven        Leuven   \n",
            "10004                   BEL                 NaN          Leuven        Leuven   \n",
            "\n",
            "      funding_round_type   funded_at funded_month funded_quarter  funded_year  \\\n",
            "10000          series-c+  2009-02-05      2009-02        2009-Q1         2009   \n",
            "10001           series-a  2009-07-27      2009-07        2009-Q3         2009   \n",
            "10002            venture  2007-02-07      2007-02        2007-Q1         2007   \n",
            "10003     private-equity  2007-06-13      2007-06        2007-Q2         2007   \n",
            "10004           series-b  2011-06-06      2011-06        2011-Q2         2011   \n",
            "\n",
            "       raised_amount_usd  \n",
            "10000         37400000.0  \n",
            "10001          6000000.0  \n",
            "10002         22300000.0  \n",
            "10003          8387128.0  \n",
            "10004         15700000.0  \n",
            "                 company_permalink        company_name company_category_code  \\\n",
            "15000        /company/goto-metrics            Zettaset            enterprise   \n",
            "15001           /company/brighttag           BrightTag            enterprise   \n",
            "15002              /company/joyent              Joyent            enterprise   \n",
            "15003           /company/brighttag           BrightTag            enterprise   \n",
            "15004  /company/exagen-diagnostics  Exagen Diagnostics               biotech   \n",
            "\n",
            "      company_country_code company_state_code company_region   company_city  \\\n",
            "15000                  USA                 CA         SF Bay  Mountain View   \n",
            "15001                  USA                 IL        Chicago        Chicago   \n",
            "15002                  USA                 CA         SF Bay  San Francisco   \n",
            "15003                  USA                 IL        Chicago        Chicago   \n",
            "15004                  USA                 NM    Albuquerque    Albuquerque   \n",
            "\n",
            "                          investor_permalink  investor_name  \\\n",
            "15000  /financial-organization/epic-ventures  EPIC Ventures   \n",
            "15001  /financial-organization/epic-ventures  EPIC Ventures   \n",
            "15002  /financial-organization/epic-ventures  EPIC Ventures   \n",
            "15003  /financial-organization/epic-ventures  EPIC Ventures   \n",
            "15004  /financial-organization/epic-ventures  EPIC Ventures   \n",
            "\n",
            "       investor_category_code investor_country_code investor_state_code  \\\n",
            "15000                     NaN                   USA                  UT   \n",
            "15001                     NaN                   USA                  UT   \n",
            "15002                     NaN                   USA                  UT   \n",
            "15003                     NaN                   USA                  UT   \n",
            "15004                     NaN                   USA                  UT   \n",
            "\n",
            "      investor_region   investor_city funding_round_type   funded_at  \\\n",
            "15000  Salt Lake City  Salt Lake City            venture  2011-07-12   \n",
            "15001  Salt Lake City  Salt Lake City            venture  2011-08-15   \n",
            "15002  Salt Lake City  Salt Lake City          series-c+  2012-01-23   \n",
            "15003  Salt Lake City  Salt Lake City          series-c+  2012-04-25   \n",
            "15004  Salt Lake City  Salt Lake City            venture  2012-09-10   \n",
            "\n",
            "      funded_month funded_quarter  funded_year  raised_amount_usd  \n",
            "15000      2011-07        2011-Q3         2011          3000000.0  \n",
            "15001      2011-08        2011-Q3         2011          5000000.0  \n",
            "15002      2012-01        2012-Q1         2012         85000000.0  \n",
            "15003      2012-04        2012-Q2         2012         15000000.0  \n",
            "15004      2012-09        2012-Q3         2012          5300000.0  \n",
            "                   company_permalink       company_name company_category_code  \\\n",
            "20000  /company/coulomb-technologies  ChargePoint, Inc.             cleantech   \n",
            "20001           /company/oncothyreon        Oncothyreon               biotech   \n",
            "20002               /company/grouply            Grouply       network_hosting   \n",
            "20003               /company/grouply            Grouply       network_hosting   \n",
            "20004               /company/grouply            Grouply       network_hosting   \n",
            "\n",
            "      company_country_code company_state_code company_region  company_city  \\\n",
            "20000                  USA                 CA         SF Bay      Campbell   \n",
            "20001                  USA                 WA        Seattle       Seattle   \n",
            "20002                  USA                 CA         SF Bay  Redwood City   \n",
            "20003                  USA                 CA         SF Bay  Redwood City   \n",
            "20004                  USA                 CA         SF Bay  Redwood City   \n",
            "\n",
            "                                investor_permalink        investor_name  \\\n",
            "20000    /financial-organization/hartford-ventures    Hartford Ventures   \n",
            "20001        /financial-organization/hartz-capital        Hartz Capital   \n",
            "20002  /financial-organization/harvard-angel-group  Harvard Angel Group   \n",
            "20003  /financial-organization/harvard-angel-group  Harvard Angel Group   \n",
            "20004  /financial-organization/harvard-angel-group  Harvard Angel Group   \n",
            "\n",
            "       investor_category_code investor_country_code investor_state_code  \\\n",
            "20000                     NaN                   USA                  CT   \n",
            "20001                     NaN                   NaN                 NaN   \n",
            "20002                     NaN                   USA                 NaN   \n",
            "20003                     NaN                   USA                 NaN   \n",
            "20004                     NaN                   USA                 NaN   \n",
            "\n",
            "      investor_region investor_city funding_round_type   funded_at  \\\n",
            "20000        Hartford      Hartford          series-c+  2010-09-08   \n",
            "20001         unknown           NaN            venture  2010-09-24   \n",
            "20002             TBD           NaN              angel  2007-06-01   \n",
            "20003             TBD           NaN              angel  2008-01-01   \n",
            "20004             TBD           NaN           series-a  2008-01-14   \n",
            "\n",
            "      funded_month funded_quarter  funded_year  raised_amount_usd  \n",
            "20000      2010-09        2010-Q3         2010         15000000.0  \n",
            "20001      2010-09        2010-Q3         2010         14900000.0  \n",
            "20002      2007-06        2007-Q2         2007           935000.0  \n",
            "20003      2008-01        2008-Q1         2008           365000.0  \n",
            "20004      2008-01        2008-Q1         2008          1300000.0  \n",
            "             company_permalink    company_name company_category_code  \\\n",
            "25000    /company/smith-tinker  Smith & Tinker           games_video   \n",
            "25001            /company/sway            Sway           advertising   \n",
            "25002        /company/shoutlet        Shoutlet            enterprise   \n",
            "25003  /company/firefly-mobile  Firefly Mobile                mobile   \n",
            "25004      /company/fastmobile      Fastmobile              software   \n",
            "\n",
            "      company_country_code company_state_code company_region     company_city  \\\n",
            "25000                  USA                 WA        Seattle         Bellevue   \n",
            "25001                  USA                 WI      Middleton        Middleton   \n",
            "25002                  USA                 WI        Madison          Madison   \n",
            "25003                  USA                 FL          Miami      Miami Beach   \n",
            "25004                  USA                 IL        Chicago  Rolling Meadows   \n",
            "\n",
            "                                 investor_permalink         investor_name  \\\n",
            "25000  /financial-organization/leo-capital-holdings  Leo Capital Holdings   \n",
            "25001  /financial-organization/leo-capital-holdings  Leo Capital Holdings   \n",
            "25002  /financial-organization/leo-capital-holdings  Leo Capital Holdings   \n",
            "25003  /financial-organization/leo-capital-holdings  Leo Capital Holdings   \n",
            "25004  /financial-organization/leo-capital-holdings  Leo Capital Holdings   \n",
            "\n",
            "       investor_category_code investor_country_code investor_state_code  \\\n",
            "25000                     NaN                   USA                  IL   \n",
            "25001                     NaN                   USA                  IL   \n",
            "25002                     NaN                   USA                  IL   \n",
            "25003                     NaN                   USA                  IL   \n",
            "25004                     NaN                   USA                  IL   \n",
            "\n",
            "      investor_region investor_city funding_round_type   funded_at  \\\n",
            "25000         Chicago    Northbrook            venture  2009-08-25   \n",
            "25001         Chicago    Northbrook           series-a  2010-01-19   \n",
            "25002         Chicago    Northbrook           series-a  2010-01-19   \n",
            "25003         Chicago    Northbrook            venture  2006-10-19   \n",
            "25004         Chicago    Northbrook           series-b  2005-05-16   \n",
            "\n",
            "      funded_month funded_quarter  funded_year  raised_amount_usd  \n",
            "25000      2009-08        2009-Q3         2009         29000000.0  \n",
            "25001      2010-01        2010-Q1         2010          2000000.0  \n",
            "25002      2010-01        2010-Q1         2010          3200000.0  \n",
            "25003      2006-10        2006-Q4         2006          3000000.0  \n",
            "25004      2005-05        2005-Q2         2005         12000000.0  \n",
            "           company_permalink   company_name company_category_code  \\\n",
            "30000      /company/tricycle       Tricycle                   NaN   \n",
            "30001         /company/adapx          Adapx              software   \n",
            "30002         /company/adapx          Adapx              software   \n",
            "30003  /company/actionengine  Action Engine                mobile   \n",
            "30004       /company/vigilos        Vigilos              software   \n",
            "\n",
            "      company_country_code company_state_code company_region company_city  \\\n",
            "30000                  USA                 TN    Chattanooga  Chattanooga   \n",
            "30001                  USA                 WA        Seattle      Seattle   \n",
            "30002                  USA                 WA        Seattle      Seattle   \n",
            "30003                  USA                 WA        Seattle     Bellevue   \n",
            "30004                  USA                 WA        Seattle      Seattle   \n",
            "\n",
            "                                      investor_permalink  \\\n",
            "30000     /financial-organization/northwest-georgia-bank   \n",
            "30001  /financial-organization/northwest-technology-v...   \n",
            "30002  /financial-organization/northwest-technology-v...   \n",
            "30003  /financial-organization/northwest-venture-asso...   \n",
            "30004  /financial-organization/northwest-venture-asso...   \n",
            "\n",
            "                       investor_name  investor_category_code  \\\n",
            "30000         Northwest Georgia Bank                     NaN   \n",
            "30001  Northwest Technology Ventures                     NaN   \n",
            "30002  Northwest Technology Ventures                     NaN   \n",
            "30003   Northwest Venture Associates                     NaN   \n",
            "30004   Northwest Venture Associates                     NaN   \n",
            "\n",
            "      investor_country_code investor_state_code investor_region investor_city  \\\n",
            "30000                   USA                  GA        Ringgold      Ringgold   \n",
            "30001                   USA                  OR        Portland     Beaverton   \n",
            "30002                   USA                  OR        Portland     Beaverton   \n",
            "30003                   USA                  WA         Spokane       Spokane   \n",
            "30004                   USA                  WA         Spokane       Spokane   \n",
            "\n",
            "      funding_round_type   funded_at funded_month funded_quarter  funded_year  \\\n",
            "30000              other  2003-01-01      2003-01        2003-Q1       2003.0   \n",
            "30001            venture  2012-07-30      2012-07        2012-Q3       2012.0   \n",
            "30002            venture  2013-04-11      2013-04        2013-Q2       2013.0   \n",
            "30003          series-c+  2007-07-01      2007-07        2007-Q3       2007.0   \n",
            "30004            venture  2009-04-28      2009-04        2009-Q2       2009.0   \n",
            "\n",
            "       raised_amount_usd  \n",
            "30000           500000.0  \n",
            "30001          3000000.0  \n",
            "30002          3000000.0  \n",
            "30003         20000000.0  \n",
            "30004          1400000.0  \n",
            "                        company_permalink               company_name  \\\n",
            "35000  /company/ping-identity-corporation  Ping Identity Corporation   \n",
            "35001                 /company/mulesource                   MuleSoft   \n",
            "35002                 /company/amberpoint                 AmberPoint   \n",
            "35003                    /company/questra                    Questra   \n",
            "35004               /company/reva-systems               Reva Systems   \n",
            "\n",
            "      company_category_code company_country_code company_state_code  \\\n",
            "35000              security                  USA                 CO   \n",
            "35001            enterprise                  USA                 CA   \n",
            "35002                   web                  USA                 CA   \n",
            "35003              software                  USA                 CA   \n",
            "35004              hardware                  USA                 MA   \n",
            "\n",
            "      company_region   company_city                    investor_permalink  \\\n",
            "35000         Denver         Denver  /financial-organization/sap-ventures   \n",
            "35001         SF Bay  San Francisco  /financial-organization/sap-ventures   \n",
            "35002         SF Bay        Oakland  /financial-organization/sap-ventures   \n",
            "35003         SF Bay   Redwood City  /financial-organization/sap-ventures   \n",
            "35004         Boston       Westford  /financial-organization/sap-ventures   \n",
            "\n",
            "      investor_name  investor_category_code investor_country_code  \\\n",
            "35000  SAP Ventures                     NaN                   USA   \n",
            "35001  SAP Ventures                     NaN                   USA   \n",
            "35002  SAP Ventures                     NaN                   USA   \n",
            "35003  SAP Ventures                     NaN                   USA   \n",
            "35004  SAP Ventures                     NaN                   USA   \n",
            "\n",
            "      investor_state_code investor_region investor_city funding_round_type  \\\n",
            "35000                  CA          SF Bay     Palo Alto          series-c+   \n",
            "35001                  CA          SF Bay     Palo Alto          series-c+   \n",
            "35002                  CA          SF Bay     Palo Alto          series-c+   \n",
            "35003                  CA          SF Bay     Palo Alto          series-c+   \n",
            "35004                  CA          SF Bay     Palo Alto           series-b   \n",
            "\n",
            "        funded_at funded_month funded_quarter  funded_year  raised_amount_usd  \n",
            "35000  2006-10-11      2006-10        2006-Q4         2006         13000000.0  \n",
            "35001  2010-03-30      2010-03        2010-Q1         2010         12000000.0  \n",
            "35002  2006-03-28      2006-03        2006-Q1         2006         19300000.0  \n",
            "35003  2006-08-15      2006-08        2006-Q3         2006         12500000.0  \n",
            "35004  2006-10-02      2006-10        2006-Q4         2006         23500000.0  \n",
            "                        company_permalink               company_name  \\\n",
            "40000  /company/guardianedge-technologies  GuardianEdge Technologies   \n",
            "40001                    /company/netbase          NetBase Solutions   \n",
            "40002                  /company/gigalogix                  GigaLogix   \n",
            "40003                    /company/axcient                    Axcient   \n",
            "40004                    /company/apsalar                    Apsalar   \n",
            "\n",
            "      company_category_code company_country_code company_state_code  \\\n",
            "40000              software                  USA                 CA   \n",
            "40001                social                  USA                 CA   \n",
            "40002      public_relations                  USA                 CA   \n",
            "40003            enterprise                  USA                 CA   \n",
            "40004           advertising                  USA                 CA   \n",
            "\n",
            "      company_region   company_city  \\\n",
            "40000         SF Bay      San Mateo   \n",
            "40001         SF Bay  Mountain View   \n",
            "40002         SF Bay        Oakland   \n",
            "40003         SF Bay  Mountain View   \n",
            "40004         SF Bay  SAN FRANCISCO   \n",
            "\n",
            "                              investor_permalink      investor_name  \\\n",
            "40000  /financial-organization/thomvest-ventures  Thomvest Ventures   \n",
            "40001  /financial-organization/thomvest-ventures  Thomvest Ventures   \n",
            "40002  /financial-organization/thomvest-ventures  Thomvest Ventures   \n",
            "40003  /financial-organization/thomvest-ventures  Thomvest Ventures   \n",
            "40004  /financial-organization/thomvest-ventures  Thomvest Ventures   \n",
            "\n",
            "       investor_category_code investor_country_code investor_state_code  \\\n",
            "40000                     NaN                   USA                  CA   \n",
            "40001                     NaN                   USA                  CA   \n",
            "40002                     NaN                   USA                  CA   \n",
            "40003                     NaN                   USA                  CA   \n",
            "40004                     NaN                   USA                  CA   \n",
            "\n",
            "      investor_region investor_city funding_round_type   funded_at  \\\n",
            "40000          SF Bay  Redwood City              other  2007-07-23   \n",
            "40001          SF Bay  Redwood City          series-c+  2010-03-02   \n",
            "40002          SF Bay  Redwood City           series-a  2007-02-01   \n",
            "40003          SF Bay  Redwood City           series-b  2010-07-14   \n",
            "40004          SF Bay  Redwood City              angel  2010-11-01   \n",
            "\n",
            "      funded_month funded_quarter  funded_year  raised_amount_usd  \n",
            "40000      2007-07        2007-Q3         2007          3500000.0  \n",
            "40001      2010-03        2010-Q1         2010          9000000.0  \n",
            "40002      2007-02        2007-Q1         2007          1400000.0  \n",
            "40003      2010-07        2010-Q3         2010         10000000.0  \n",
            "40004      2010-11        2010-Q4         2010           800000.0  \n",
            "                  company_permalink         company_name  \\\n",
            "45000           /company/bread-labs                Bread   \n",
            "45001                /company/nuiku                Nuiku   \n",
            "45002   /company/savvy-cellar-wines   Savvy Cellar Wines   \n",
            "45003  /company/enigma-technologies  Enigma Technologies   \n",
            "45004                 /company/yext                 Yext   \n",
            "\n",
            "      company_category_code company_country_code company_state_code  \\\n",
            "45000           advertising                  USA                 CA   \n",
            "45001              software                  USA                 WA   \n",
            "45002                 other                  USA                 CA   \n",
            "45003             analytics                  USA                 NY   \n",
            "45004              software                  USA                 NY   \n",
            "\n",
            "      company_region   company_city       investor_permalink    investor_name  \\\n",
            "45000         SF Bay  San Francisco  /person/brendan-wallace  Brendan Wallace   \n",
            "45001        Seattle        Redmond       /person/brent-frei       Brent Frei   \n",
            "45002         SF Bay   Redwood City   /person/brent-harrison   Brent Harrison   \n",
            "45003       New York       New York     /person/brent-hurley     Brent Hurley   \n",
            "45004       New York       New York       /person/brent-metz       Brent Metz   \n",
            "\n",
            "       investor_category_code  investor_country_code  investor_state_code  \\\n",
            "45000                     NaN                    NaN                  NaN   \n",
            "45001                     NaN                    NaN                  NaN   \n",
            "45002                     NaN                    NaN                  NaN   \n",
            "45003                     NaN                    NaN                  NaN   \n",
            "45004                     NaN                    NaN                  NaN   \n",
            "\n",
            "      investor_region  investor_city funding_round_type   funded_at  \\\n",
            "45000         unknown            NaN              angel  2011-02-01   \n",
            "45001         unknown            NaN           series-a  2013-09-17   \n",
            "45002         unknown            NaN              angel  2005-01-01   \n",
            "45003         unknown            NaN              angel  2013-02-27   \n",
            "45004         unknown            NaN              angel  2006-11-01   \n",
            "\n",
            "      funded_month funded_quarter  funded_year  raised_amount_usd  \n",
            "45000      2011-02        2011-Q1         2011          1000000.0  \n",
            "45001      2013-09        2013-Q3         2013          1600000.0  \n",
            "45002      2005-01        2005-Q1         2005           300000.0  \n",
            "45003      2013-02        2013-Q1         2013          1100000.0  \n",
            "45004      2006-11        2006-Q4         2006           250000.0  \n",
            "            company_permalink   company_name company_category_code  \\\n",
            "50000        /company/nuorder        NuORDER               fashion   \n",
            "50001         /company/chacha         ChaCha           advertising   \n",
            "50002        /company/binfire        Binfire              software   \n",
            "50003        /company/binfire        Binfire              software   \n",
            "50004  /company/unified-color  Unified Color              software   \n",
            "\n",
            "      company_country_code company_state_code company_region  \\\n",
            "50000                  USA                 CA    Los Angeles   \n",
            "50001                  USA                 IN   Indianapolis   \n",
            "50002                  USA                 FL    Bocat Raton   \n",
            "50003                  USA                 FL    Bocat Raton   \n",
            "50004                  USA                 CA         SF Bay   \n",
            "\n",
            "              company_city       investor_permalink    investor_name  \\\n",
            "50000       West Hollywood  /person/mortimer-singer  Mortimer Singer   \n",
            "50001               Carmel  /person/morton-meyerson  Morton Meyerson   \n",
            "50002          Bocat Raton      /person/moshe-ariel      Moshe Ariel   \n",
            "50003          Bocat Raton      /person/moshe-ariel      Moshe Ariel   \n",
            "50004  South San Frnacisco   /person/mr-andrew-oung  Mr. Andrew Oung   \n",
            "\n",
            "       investor_category_code  investor_country_code  investor_state_code  \\\n",
            "50000                     NaN                    NaN                  NaN   \n",
            "50001                     NaN                    NaN                  NaN   \n",
            "50002                     NaN                    NaN                  NaN   \n",
            "50003                     NaN                    NaN                  NaN   \n",
            "50004                     NaN                    NaN                  NaN   \n",
            "\n",
            "      investor_region  investor_city funding_round_type   funded_at  \\\n",
            "50000         unknown            NaN           series-a  2012-10-01   \n",
            "50001         unknown            NaN           series-b  2007-10-01   \n",
            "50002         unknown            NaN              angel  2008-04-18   \n",
            "50003         unknown            NaN              angel  2010-01-01   \n",
            "50004         unknown            NaN              angel  2010-01-01   \n",
            "\n",
            "      funded_month funded_quarter  funded_year  raised_amount_usd  \n",
            "50000      2012-10        2012-Q4         2012          3060000.0  \n",
            "50001      2007-10        2007-Q4         2007         12000000.0  \n",
            "50002      2008-04        2008-Q2         2008           500000.0  \n",
            "50003      2010-01        2010-Q1         2010           750000.0  \n",
            "50004      2010-01        2010-Q1         2010                NaN  \n"
          ]
        }
      ]
    },
    {
      "cell_type": "markdown",
      "source": [
        "*We want to return the memory usage of each column in the current chunk of the Crunchbase data. The deep parameter has been set to True, which means that the memory usage of all the elements in each column will be calculated, including any nested elements. The result is a pandas Series object, where the index is the column names and the values are the memory usage of each column in bytes.*"
      ],
      "metadata": {
        "id": "NH0i04J0NIY2"
      }
    },
    {
      "cell_type": "code",
      "source": [
        "crunchbase.memory_usage(deep = True)"
      ],
      "metadata": {
        "colab": {
          "base_uri": "https://localhost:8080/"
        },
        "id": "mmVd0YwvZbVt",
        "outputId": "9e09430a-f0fd-467e-bce2-39ae17a4b365"
      },
      "execution_count": null,
      "outputs": [
        {
          "output_type": "execute_result",
          "data": {
            "text/plain": [
              "Index                        132\n",
              "company_permalink         215412\n",
              "company_name              189709\n",
              "company_category_code     184581\n",
              "company_country_code      172200\n",
              "company_state_code        168547\n",
              "company_region            184997\n",
              "company_city              191495\n",
              "investor_permalink        222759\n",
              "investor_name             199818\n",
              "investor_category_code     22960\n",
              "investor_country_code      22960\n",
              "investor_state_code        22960\n",
              "investor_region           183680\n",
              "investor_city              22960\n",
              "funding_round_type        182367\n",
              "funded_at                 192290\n",
              "funded_month              183680\n",
              "funded_quarter            183680\n",
              "funded_year                22960\n",
              "raised_amount_usd          22960\n",
              "dtype: int64"
            ]
          },
          "metadata": {},
          "execution_count": 7
        }
      ]
    },
    {
      "cell_type": "markdown",
      "source": [
        "*We intend to calculate the total memory footprint of all the chunks of the Crunchbase data by summing up the memory usage of each chunk. The memory_usage() method is called on each chunk to get its memory usage, and the .sum() method is used to get the sum of all the memory usage of each column in the chunk. The result is then divided by 1024 * 1024 to convert it from bytes to megabytes. Finally, the memory usage of each chunk is appended to the memory_footprints list, and the sum of all the values in memory_footprints is printed.*\n",
        "                                                                                                                                                   *This gives us the combined output*"
      ],
      "metadata": {
        "id": "i4dgtdOBcZ7N"
      }
    },
    {
      "cell_type": "code",
      "source": [
        "memory_footprints = []\n",
        "crunchbase_iter = pd.read_csv(url, encoding='unicode_escape', chunksize = 5000)\n",
        "for chunk in crunchbase_iter:\n",
        "    memory_footprints.append(crunchbase.memory_usage(deep=True).sum()/(1024*1024))\n",
        "print(sum(memory_footprints))"
      ],
      "metadata": {
        "colab": {
          "base_uri": "https://localhost:8080/"
        },
        "id": "gpb3Vk0kaUEd",
        "outputId": "11df928f-6e42-4241-fb95-181d2b389088"
      },
      "execution_count": null,
      "outputs": [
        {
          "output_type": "stream",
          "name": "stdout",
          "text": [
            "29.30085849761963\n"
          ]
        }
      ]
    },
    {
      "cell_type": "markdown",
      "source": [
        "*To remove the unnecessary columns, we read the entire Crunchbase data into a single pandas DataFrame, and then drop several columns that aren't useful for analysis. The drop method is used to remove the specified columns, which are listed in the argument passed to the columns parameter.\n",
        "The axis parameter is set to 1 to indicate that we are dropping columns (as opposed to rows), and the result of this operation is \n",
        "a new DataFrame with the specified columns removed. Note that this code doesn't assign the result of the drop operation back to the crunchbase DataFrame. To make the change permanent, you should re-assign the result to crunchbase like this: crunchbase = crunchbase.drop(['investor_country_code', 'investor_state_code','investor_category_code', 'company_city','raised_amount_usd','investor_city', 'company_state_code','company_category_code',], axis = 1).*"
      ],
      "metadata": {
        "id": "fLGheRRCdrld"
      }
    },
    {
      "cell_type": "code",
      "source": [
        "crunchbase = pd.read_csv(url, encoding='unicode_escape')\n",
        "crunchbase.drop(['investor_country_code', 'investor_state_code','investor_category_code', 'company_city','raised_amount_usd','investor_city','company_state_code','company_category_code',], axis = 1)\n",
        "     "
      ],
      "metadata": {
        "colab": {
          "base_uri": "https://localhost:8080/",
          "height": 696
        },
        "id": "8dRG8zrWap1j",
        "outputId": "b7eede47-3df5-415c-8894-2915db0a0d6f"
      },
      "execution_count": null,
      "outputs": [
        {
          "output_type": "stream",
          "name": "stderr",
          "text": [
            "/usr/local/lib/python3.8/dist-packages/IPython/core/interactiveshell.py:3326: DtypeWarning: Columns (9) have mixed types.Specify dtype option on import or set low_memory=False.\n",
            "  exec(code_obj, self.user_global_ns, self.user_ns)\n"
          ]
        },
        {
          "output_type": "execute_result",
          "data": {
            "text/plain": [
              "                 company_permalink        company_name company_country_code  \\\n",
              "0                /company/advercar            AdverCar                  USA   \n",
              "1              /company/launchgram          LaunchGram                  USA   \n",
              "2                    /company/utap                uTaP                  USA   \n",
              "3                /company/zoopshop            ZoopShop                  USA   \n",
              "4                /company/efuneral            eFuneral                  USA   \n",
              "...                            ...                 ...                  ...   \n",
              "52865       /company/garantia-data       Garantia Data                  USA   \n",
              "52866         /company/duda-mobile          DudaMobile                  USA   \n",
              "52867          /company/sitebrains          SiteBrains                  USA   \n",
              "52868  /company/comprehend-systems  Comprehend Systems                  USA   \n",
              "52869         /company/smartthings         SmartThings                  USA   \n",
              "\n",
              "              company_region          investor_permalink      investor_name  \\\n",
              "0                     SF Bay  /company/1-800-flowers-com  1-800-FLOWERS.COM   \n",
              "1                     SF Bay        /company/10xelerator        10Xelerator   \n",
              "2      United States - Other        /company/10xelerator        10Xelerator   \n",
              "3                   Columbus        /company/10xelerator        10Xelerator   \n",
              "4                  Cleveland        /company/10xelerator        10Xelerator   \n",
              "...                      ...                         ...                ...   \n",
              "52865                 SF Bay         /person/zohar-gilon        Zohar Gilon   \n",
              "52866                 SF Bay         /person/zohar-gilon        Zohar Gilon   \n",
              "52867                 SF Bay        /person/zohar-israel       zohar israel   \n",
              "52868                 SF Bay     /person/zorba-lieberman    Zorba Lieberman   \n",
              "52869                unknown        /person/zorik-gordon       Zorik Gordon   \n",
              "\n",
              "      investor_region funding_round_type   funded_at funded_month  \\\n",
              "0            New York           series-a  2012-10-30      2012-10   \n",
              "1            Columbus              other  2012-01-23      2012-01   \n",
              "2            Columbus              other  2012-01-01      2012-01   \n",
              "3            Columbus              angel  2012-02-15      2012-02   \n",
              "4            Columbus              other  2011-09-08      2011-09   \n",
              "...               ...                ...         ...          ...   \n",
              "52865         unknown           series-a  2012-08-08      2012-08   \n",
              "52866         unknown          series-c+  2013-04-08      2013-04   \n",
              "52867         unknown              angel  2010-08-01      2010-08   \n",
              "52868         unknown           series-a  2013-07-11      2013-07   \n",
              "52869         unknown           series-a  2012-12-04      2012-12   \n",
              "\n",
              "      funded_quarter  funded_year  \n",
              "0            2012-Q4       2012.0  \n",
              "1            2012-Q1       2012.0  \n",
              "2            2012-Q1       2012.0  \n",
              "3            2012-Q1       2012.0  \n",
              "4            2011-Q3       2011.0  \n",
              "...              ...          ...  \n",
              "52865        2012-Q3       2012.0  \n",
              "52866        2013-Q2       2013.0  \n",
              "52867        2010-Q3       2010.0  \n",
              "52868        2013-Q3       2013.0  \n",
              "52869        2012-Q4       2012.0  \n",
              "\n",
              "[52870 rows x 12 columns]"
            ],
            "text/html": [
              "\n",
              "  <div id=\"df-bad32f8a-e77f-44ef-945a-e4c981518ed9\">\n",
              "    <div class=\"colab-df-container\">\n",
              "      <div>\n",
              "<style scoped>\n",
              "    .dataframe tbody tr th:only-of-type {\n",
              "        vertical-align: middle;\n",
              "    }\n",
              "\n",
              "    .dataframe tbody tr th {\n",
              "        vertical-align: top;\n",
              "    }\n",
              "\n",
              "    .dataframe thead th {\n",
              "        text-align: right;\n",
              "    }\n",
              "</style>\n",
              "<table border=\"1\" class=\"dataframe\">\n",
              "  <thead>\n",
              "    <tr style=\"text-align: right;\">\n",
              "      <th></th>\n",
              "      <th>company_permalink</th>\n",
              "      <th>company_name</th>\n",
              "      <th>company_country_code</th>\n",
              "      <th>company_region</th>\n",
              "      <th>investor_permalink</th>\n",
              "      <th>investor_name</th>\n",
              "      <th>investor_region</th>\n",
              "      <th>funding_round_type</th>\n",
              "      <th>funded_at</th>\n",
              "      <th>funded_month</th>\n",
              "      <th>funded_quarter</th>\n",
              "      <th>funded_year</th>\n",
              "    </tr>\n",
              "  </thead>\n",
              "  <tbody>\n",
              "    <tr>\n",
              "      <th>0</th>\n",
              "      <td>/company/advercar</td>\n",
              "      <td>AdverCar</td>\n",
              "      <td>USA</td>\n",
              "      <td>SF Bay</td>\n",
              "      <td>/company/1-800-flowers-com</td>\n",
              "      <td>1-800-FLOWERS.COM</td>\n",
              "      <td>New York</td>\n",
              "      <td>series-a</td>\n",
              "      <td>2012-10-30</td>\n",
              "      <td>2012-10</td>\n",
              "      <td>2012-Q4</td>\n",
              "      <td>2012.0</td>\n",
              "    </tr>\n",
              "    <tr>\n",
              "      <th>1</th>\n",
              "      <td>/company/launchgram</td>\n",
              "      <td>LaunchGram</td>\n",
              "      <td>USA</td>\n",
              "      <td>SF Bay</td>\n",
              "      <td>/company/10xelerator</td>\n",
              "      <td>10Xelerator</td>\n",
              "      <td>Columbus</td>\n",
              "      <td>other</td>\n",
              "      <td>2012-01-23</td>\n",
              "      <td>2012-01</td>\n",
              "      <td>2012-Q1</td>\n",
              "      <td>2012.0</td>\n",
              "    </tr>\n",
              "    <tr>\n",
              "      <th>2</th>\n",
              "      <td>/company/utap</td>\n",
              "      <td>uTaP</td>\n",
              "      <td>USA</td>\n",
              "      <td>United States - Other</td>\n",
              "      <td>/company/10xelerator</td>\n",
              "      <td>10Xelerator</td>\n",
              "      <td>Columbus</td>\n",
              "      <td>other</td>\n",
              "      <td>2012-01-01</td>\n",
              "      <td>2012-01</td>\n",
              "      <td>2012-Q1</td>\n",
              "      <td>2012.0</td>\n",
              "    </tr>\n",
              "    <tr>\n",
              "      <th>3</th>\n",
              "      <td>/company/zoopshop</td>\n",
              "      <td>ZoopShop</td>\n",
              "      <td>USA</td>\n",
              "      <td>Columbus</td>\n",
              "      <td>/company/10xelerator</td>\n",
              "      <td>10Xelerator</td>\n",
              "      <td>Columbus</td>\n",
              "      <td>angel</td>\n",
              "      <td>2012-02-15</td>\n",
              "      <td>2012-02</td>\n",
              "      <td>2012-Q1</td>\n",
              "      <td>2012.0</td>\n",
              "    </tr>\n",
              "    <tr>\n",
              "      <th>4</th>\n",
              "      <td>/company/efuneral</td>\n",
              "      <td>eFuneral</td>\n",
              "      <td>USA</td>\n",
              "      <td>Cleveland</td>\n",
              "      <td>/company/10xelerator</td>\n",
              "      <td>10Xelerator</td>\n",
              "      <td>Columbus</td>\n",
              "      <td>other</td>\n",
              "      <td>2011-09-08</td>\n",
              "      <td>2011-09</td>\n",
              "      <td>2011-Q3</td>\n",
              "      <td>2011.0</td>\n",
              "    </tr>\n",
              "    <tr>\n",
              "      <th>...</th>\n",
              "      <td>...</td>\n",
              "      <td>...</td>\n",
              "      <td>...</td>\n",
              "      <td>...</td>\n",
              "      <td>...</td>\n",
              "      <td>...</td>\n",
              "      <td>...</td>\n",
              "      <td>...</td>\n",
              "      <td>...</td>\n",
              "      <td>...</td>\n",
              "      <td>...</td>\n",
              "      <td>...</td>\n",
              "    </tr>\n",
              "    <tr>\n",
              "      <th>52865</th>\n",
              "      <td>/company/garantia-data</td>\n",
              "      <td>Garantia Data</td>\n",
              "      <td>USA</td>\n",
              "      <td>SF Bay</td>\n",
              "      <td>/person/zohar-gilon</td>\n",
              "      <td>Zohar Gilon</td>\n",
              "      <td>unknown</td>\n",
              "      <td>series-a</td>\n",
              "      <td>2012-08-08</td>\n",
              "      <td>2012-08</td>\n",
              "      <td>2012-Q3</td>\n",
              "      <td>2012.0</td>\n",
              "    </tr>\n",
              "    <tr>\n",
              "      <th>52866</th>\n",
              "      <td>/company/duda-mobile</td>\n",
              "      <td>DudaMobile</td>\n",
              "      <td>USA</td>\n",
              "      <td>SF Bay</td>\n",
              "      <td>/person/zohar-gilon</td>\n",
              "      <td>Zohar Gilon</td>\n",
              "      <td>unknown</td>\n",
              "      <td>series-c+</td>\n",
              "      <td>2013-04-08</td>\n",
              "      <td>2013-04</td>\n",
              "      <td>2013-Q2</td>\n",
              "      <td>2013.0</td>\n",
              "    </tr>\n",
              "    <tr>\n",
              "      <th>52867</th>\n",
              "      <td>/company/sitebrains</td>\n",
              "      <td>SiteBrains</td>\n",
              "      <td>USA</td>\n",
              "      <td>SF Bay</td>\n",
              "      <td>/person/zohar-israel</td>\n",
              "      <td>zohar israel</td>\n",
              "      <td>unknown</td>\n",
              "      <td>angel</td>\n",
              "      <td>2010-08-01</td>\n",
              "      <td>2010-08</td>\n",
              "      <td>2010-Q3</td>\n",
              "      <td>2010.0</td>\n",
              "    </tr>\n",
              "    <tr>\n",
              "      <th>52868</th>\n",
              "      <td>/company/comprehend-systems</td>\n",
              "      <td>Comprehend Systems</td>\n",
              "      <td>USA</td>\n",
              "      <td>SF Bay</td>\n",
              "      <td>/person/zorba-lieberman</td>\n",
              "      <td>Zorba Lieberman</td>\n",
              "      <td>unknown</td>\n",
              "      <td>series-a</td>\n",
              "      <td>2013-07-11</td>\n",
              "      <td>2013-07</td>\n",
              "      <td>2013-Q3</td>\n",
              "      <td>2013.0</td>\n",
              "    </tr>\n",
              "    <tr>\n",
              "      <th>52869</th>\n",
              "      <td>/company/smartthings</td>\n",
              "      <td>SmartThings</td>\n",
              "      <td>USA</td>\n",
              "      <td>unknown</td>\n",
              "      <td>/person/zorik-gordon</td>\n",
              "      <td>Zorik Gordon</td>\n",
              "      <td>unknown</td>\n",
              "      <td>series-a</td>\n",
              "      <td>2012-12-04</td>\n",
              "      <td>2012-12</td>\n",
              "      <td>2012-Q4</td>\n",
              "      <td>2012.0</td>\n",
              "    </tr>\n",
              "  </tbody>\n",
              "</table>\n",
              "<p>52870 rows × 12 columns</p>\n",
              "</div>\n",
              "      <button class=\"colab-df-convert\" onclick=\"convertToInteractive('df-bad32f8a-e77f-44ef-945a-e4c981518ed9')\"\n",
              "              title=\"Convert this dataframe to an interactive table.\"\n",
              "              style=\"display:none;\">\n",
              "        \n",
              "  <svg xmlns=\"http://www.w3.org/2000/svg\" height=\"24px\"viewBox=\"0 0 24 24\"\n",
              "       width=\"24px\">\n",
              "    <path d=\"M0 0h24v24H0V0z\" fill=\"none\"/>\n",
              "    <path d=\"M18.56 5.44l.94 2.06.94-2.06 2.06-.94-2.06-.94-.94-2.06-.94 2.06-2.06.94zm-11 1L8.5 8.5l.94-2.06 2.06-.94-2.06-.94L8.5 2.5l-.94 2.06-2.06.94zm10 10l.94 2.06.94-2.06 2.06-.94-2.06-.94-.94-2.06-.94 2.06-2.06.94z\"/><path d=\"M17.41 7.96l-1.37-1.37c-.4-.4-.92-.59-1.43-.59-.52 0-1.04.2-1.43.59L10.3 9.45l-7.72 7.72c-.78.78-.78 2.05 0 2.83L4 21.41c.39.39.9.59 1.41.59.51 0 1.02-.2 1.41-.59l7.78-7.78 2.81-2.81c.8-.78.8-2.07 0-2.86zM5.41 20L4 18.59l7.72-7.72 1.47 1.35L5.41 20z\"/>\n",
              "  </svg>\n",
              "      </button>\n",
              "      \n",
              "  <style>\n",
              "    .colab-df-container {\n",
              "      display:flex;\n",
              "      flex-wrap:wrap;\n",
              "      gap: 12px;\n",
              "    }\n",
              "\n",
              "    .colab-df-convert {\n",
              "      background-color: #E8F0FE;\n",
              "      border: none;\n",
              "      border-radius: 50%;\n",
              "      cursor: pointer;\n",
              "      display: none;\n",
              "      fill: #1967D2;\n",
              "      height: 32px;\n",
              "      padding: 0 0 0 0;\n",
              "      width: 32px;\n",
              "    }\n",
              "\n",
              "    .colab-df-convert:hover {\n",
              "      background-color: #E2EBFA;\n",
              "      box-shadow: 0px 1px 2px rgba(60, 64, 67, 0.3), 0px 1px 3px 1px rgba(60, 64, 67, 0.15);\n",
              "      fill: #174EA6;\n",
              "    }\n",
              "\n",
              "    [theme=dark] .colab-df-convert {\n",
              "      background-color: #3B4455;\n",
              "      fill: #D2E3FC;\n",
              "    }\n",
              "\n",
              "    [theme=dark] .colab-df-convert:hover {\n",
              "      background-color: #434B5C;\n",
              "      box-shadow: 0px 1px 3px 1px rgba(0, 0, 0, 0.15);\n",
              "      filter: drop-shadow(0px 1px 2px rgba(0, 0, 0, 0.3));\n",
              "      fill: #FFFFFF;\n",
              "    }\n",
              "  </style>\n",
              "\n",
              "      <script>\n",
              "        const buttonEl =\n",
              "          document.querySelector('#df-bad32f8a-e77f-44ef-945a-e4c981518ed9 button.colab-df-convert');\n",
              "        buttonEl.style.display =\n",
              "          google.colab.kernel.accessAllowed ? 'block' : 'none';\n",
              "\n",
              "        async function convertToInteractive(key) {\n",
              "          const element = document.querySelector('#df-bad32f8a-e77f-44ef-945a-e4c981518ed9');\n",
              "          const dataTable =\n",
              "            await google.colab.kernel.invokeFunction('convertToInteractive',\n",
              "                                                     [key], {});\n",
              "          if (!dataTable) return;\n",
              "\n",
              "          const docLinkHtml = 'Like what you see? Visit the ' +\n",
              "            '<a target=\"_blank\" href=https://colab.research.google.com/notebooks/data_table.ipynb>data table notebook</a>'\n",
              "            + ' to learn more about interactive tables.';\n",
              "          element.innerHTML = '';\n",
              "          dataTable['output_type'] = 'display_data';\n",
              "          await google.colab.output.renderOutput(dataTable, element);\n",
              "          const docLink = document.createElement('div');\n",
              "          docLink.innerHTML = docLinkHtml;\n",
              "          element.appendChild(docLink);\n",
              "        }\n",
              "      </script>\n",
              "    </div>\n",
              "  </div>\n",
              "  "
            ]
          },
          "metadata": {},
          "execution_count": 10
        }
      ]
    },
    {
      "cell_type": "markdown",
      "source": [
        "*We then print the number of missing values for each column in the crunchbase DataFrame. The isnull() method is used to create a DataFrame of the same shape as crunchbase with True values where there are missing values and False values where there are no missing values. The sum method is then applied to this DataFrame to count the number of True values in each column, which gives the number of missing values in each column. The result is a pandas Series object, where the index is the column names and the values are the number of missing values in each column.*"
      ],
      "metadata": {
        "id": "Eo2ndG0JeTJ0"
      }
    },
    {
      "cell_type": "code",
      "source": [
        "\n",
        "print( crunchbase.isnull().sum())"
      ],
      "metadata": {
        "colab": {
          "base_uri": "https://localhost:8080/"
        },
        "id": "gC27tU3pa4y0",
        "outputId": "be9fe3a9-9a9a-4b6d-aed4-248095bbb5a6"
      },
      "execution_count": null,
      "outputs": [
        {
          "output_type": "stream",
          "name": "stdout",
          "text": [
            "company_permalink             1\n",
            "company_name                  1\n",
            "company_category_code       643\n",
            "company_country_code          1\n",
            "company_state_code          492\n",
            "company_region                1\n",
            "company_city                533\n",
            "investor_permalink            2\n",
            "investor_name                 2\n",
            "investor_category_code    50427\n",
            "investor_country_code     12001\n",
            "investor_state_code       16809\n",
            "investor_region               2\n",
            "investor_city             12480\n",
            "funding_round_type            3\n",
            "funded_at                     3\n",
            "funded_month                  3\n",
            "funded_quarter                3\n",
            "funded_year                   3\n",
            "raised_amount_usd          3599\n",
            "dtype: int64\n"
          ]
        }
      ]
    },
    {
      "cell_type": "markdown",
      "metadata": {
        "id": "NOEk3_YPdg6p"
      },
      "source": [
        "## Question 2: Selecting Data Types"
      ]
    },
    {
      "cell_type": "markdown",
      "metadata": {
        "id": "FD1IqmzhcEd3"
      },
      "source": [
        "Now that we have a good sense of the missing values, let's get familiar with the column types before adding the data into SQLite.\n",
        "\n",
        "**Tasks**\n",
        "\n",
        "* Identify the types for each column.\n",
        "* Identify the numeric columns we can represent using more space efficient types.\n",
        "For text columns:\n",
        "* Analyze the unique value counts across all of the chunks to see if we can convert them to a numeric type.\n",
        "* See if we clean clean any text columns and separate them into multiple numeric columns without adding any overhead when querying.\n",
        "* Make your changes to the code from the last step so that the overall memory the data consumes stays under 10 megabytes.\n"
      ]
    },
    {
      "cell_type": "markdown",
      "source": [
        "*Let us use the info() method of a pandas dataframe to display information about the dataframe including:\n",
        "i. The number of rows and columns\n",
        "ii. The data types of each column\n",
        "iii. The memory usage of the dataframe (by column)\n",
        "This information is useful for understanding the structure of the data and identifying any issues with the data types, such as data being stored as the wrong data type, or columns that take up more memory than necessary.*"
      ],
      "metadata": {
        "id": "bwhi9HO3f78V"
      }
    },
    {
      "cell_type": "code",
      "metadata": {
        "id": "QNgzuiStZ3WN",
        "colab": {
          "base_uri": "https://localhost:8080/"
        },
        "outputId": "9ec21fe8-be9d-4e51-fd58-944898fd1baf"
      },
      "source": [
        "# Your code goes here\n",
        "\n",
        "print(crunchbase.info())"
      ],
      "execution_count": null,
      "outputs": [
        {
          "output_type": "stream",
          "name": "stdout",
          "text": [
            "<class 'pandas.core.frame.DataFrame'>\n",
            "RangeIndex: 52870 entries, 0 to 52869\n",
            "Data columns (total 20 columns):\n",
            " #   Column                  Non-Null Count  Dtype  \n",
            "---  ------                  --------------  -----  \n",
            " 0   company_permalink       52869 non-null  object \n",
            " 1   company_name            52869 non-null  object \n",
            " 2   company_category_code   52227 non-null  object \n",
            " 3   company_country_code    52869 non-null  object \n",
            " 4   company_state_code      52378 non-null  object \n",
            " 5   company_region          52869 non-null  object \n",
            " 6   company_city            52337 non-null  object \n",
            " 7   investor_permalink      52868 non-null  object \n",
            " 8   investor_name           52868 non-null  object \n",
            " 9   investor_category_code  2443 non-null   object \n",
            " 10  investor_country_code   40869 non-null  object \n",
            " 11  investor_state_code     36061 non-null  object \n",
            " 12  investor_region         52868 non-null  object \n",
            " 13  investor_city           40390 non-null  object \n",
            " 14  funding_round_type      52867 non-null  object \n",
            " 15  funded_at               52867 non-null  object \n",
            " 16  funded_month            52867 non-null  object \n",
            " 17  funded_quarter          52867 non-null  object \n",
            " 18  funded_year             52867 non-null  float64\n",
            " 19  raised_amount_usd       49271 non-null  float64\n",
            "dtypes: float64(2), object(18)\n",
            "memory usage: 8.1+ MB\n",
            "None\n"
          ]
        }
      ]
    },
    {
      "cell_type": "markdown",
      "source": [
        "*First we create a list numeric that includes the data types corresponding to numeric data (integer and floating point types). Then we use the select_dtypes method to extract the columns in the dataframe crunchbase that have data types included in numeric, and stores the resulting column names in a variable numeric_cols. Finally, the numeric_cols variable is printed to display the names of the numeric columns.*"
      ],
      "metadata": {
        "id": "Wp9rpMBNgkyr"
      }
    },
    {
      "cell_type": "code",
      "source": [
        "numeric= ['int16', 'int32', 'int64', 'float16', 'float32', 'float64']\n",
        "numeric_columns = crunchbase.select_dtypes(include=numeric).columns\n",
        "numeric_columns"
      ],
      "metadata": {
        "colab": {
          "base_uri": "https://localhost:8080/"
        },
        "id": "reqAw6UvgLCD",
        "outputId": "a4670656-edd4-4664-c09b-94966cce7a29"
      },
      "execution_count": null,
      "outputs": [
        {
          "output_type": "execute_result",
          "data": {
            "text/plain": [
              "Index(['funded_year', 'raised_amount_usd'], dtype='object')"
            ]
          },
          "metadata": {},
          "execution_count": 13
        }
      ]
    },
    {
      "cell_type": "markdown",
      "source": [
        "*We then iterate over the chunks of the crunchbase-investments.csv file and for each chunk, it calculates the value counts of the unique values in each column of the chunk. The value counts are stored in the chunk_vc variable and printed for each iteration.*"
      ],
      "metadata": {
        "id": "7zk1Ix5sg9j9"
      }
    },
    {
      "cell_type": "code",
      "source": [
        "crunchbase_iter = pd.read_csv(url, encoding='unicode_escape', chunksize = 5000)\n",
        "for crunchbase in crunchbase_iter:\n",
        "    chunk_vc = crunchbase.value_counts()\n",
        "    print(chunk_vc)"
      ],
      "metadata": {
        "colab": {
          "base_uri": "https://localhost:8080/"
        },
        "id": "kSI0jIbLg8EV",
        "outputId": "a78633a2-967d-403a-b116-c9377ee9bf4c"
      },
      "execution_count": null,
      "outputs": [
        {
          "output_type": "stream",
          "name": "stdout",
          "text": [
            "company_permalink                           company_name                       company_category_code  company_country_code  company_state_code  company_region  company_city   investor_permalink                 investor_name             investor_category_code  investor_country_code  investor_state_code  investor_region  investor_city  funding_round_type  funded_at   funded_month  funded_quarter  funded_year  raised_amount_usd\n",
            "/company/massachusetts-clean-energy-center  Massachusetts Clean Energy Center  cleantech              USA                   MA                  Boston          Boston         /company/north-shore-innoventures  North Shore InnoVentures  biotech                 USA                    MA                   Boston           Beverly        angel               2013-09-05  2013-09       2013-Q3         2013         300000.0             2\n",
            "/company/1000memories                       1000memories                       web                    USA                   CA                  SF Bay          San Francisco  /company/y-combinator              Y Combinator              finance                 USA                    CA                   SF Bay           Mountain View  angel               2010-01-01  2010-01       2010-Q1         2010         15000.0              1\n",
            "/company/posterous                          Posterous                          web                    USA                   CA                  SF Bay          San Francisco  /company/y-combinator              Y Combinator              finance                 USA                    CA                   SF Bay           Mountain View  angel               2008-05-01  2008-05       2008-Q2         2008         15000.0              1\n",
            "/company/priceonomics                       Priceonomics                       web                    USA                   CA                  SF Bay          San Francisco  /company/y-combinator              Y Combinator              finance                 USA                    CA                   SF Bay           Mountain View  angel               2011-12-01  2011-12       2011-Q4         2011         20000.0              1\n",
            "/company/pressgram                          Pressgram                          photo_video            USA                   GA                  Atlanta         Atlanta        /company/kickstarter               Kickstarter               finance                 USA                    NY                   New York         New York       crowdfunding        2013-04-15  2013-04       2013-Q2         2013         56500.0              1\n",
            "                                                                                                                                                                                                                                                                                                                                                                                                                                               ..\n",
            "/company/flashstarts                        FlashStarts                        software               USA                   OH                  Cleveland       Cleveland      /company/flashstarts               FlashStarts               software                USA                    OH                   Cleveland        Cleveland      angel               2013-06-01  2013-06       2013-Q2         2013         14000.0              1\n",
            "/company/fivestars                          FiveStars Loyalty                  advertising            USA                   CA                  SF Bay          San Francisco  /company/y-combinator              Y Combinator              finance                 USA                    CA                   SF Bay           Mountain View  angel               2011-01-01  2011-01       2011-Q1         2011         150000.0             1\n",
            "/company/fitnesskeeper                      FitnessKeeper                      health                 USA                   MA                  Boston          Boston         /company/revolution                Revolution LLC            other                   USA                    DC                   Washington DC    Washington     series-b            2011-11-21  2011-11       2011-Q4         2011         10000000.0           1\n",
            "/company/fisker                             Fisker Automotive                  automotive             USA                   CA                  Los Angeles     Irvine         /company/a123systems               A123 Systems              nanotech                USA                    MA                   Boston           Watertown      venture             2011-02-22  2011-02       2011-Q1         2011         150000000.0          1\n",
            "/company/zynga                              Zynga                              games_video            USA                   CA                  SF Bay          San Francisco  /company/google                    Google                    search                  USA                    CA                   SF Bay           Mountain View  series-b            2010-06-14  2010-06       2010-Q2         2010         300000000.0          1\n",
            "Length: 1577, dtype: int64\n",
            "Series([], dtype: int64)\n",
            "Series([], dtype: int64)\n",
            "Series([], dtype: int64)\n",
            "Series([], dtype: int64)\n",
            "Series([], dtype: int64)\n",
            "Series([], dtype: int64)\n",
            "Series([], dtype: int64)\n",
            "Series([], dtype: int64)\n",
            "Series([], dtype: int64)\n",
            "Series([], dtype: int64)\n"
          ]
        }
      ]
    },
    {
      "cell_type": "markdown",
      "metadata": {
        "id": "OA2D7o4sds1t"
      },
      "source": [
        "## Question 3: Loading Chunks Into SQLite"
      ]
    },
    {
      "cell_type": "markdown",
      "metadata": {
        "id": "ptu8Xr25dvcF"
      },
      "source": [
        "Now we're in good shape to start exploring and analyzing the data. The next step is to load each chunk into a table in a SQLite database so we can query the full data set.\n",
        "\n",
        "**Tasks**\n",
        "\n",
        "1. Create and connect to a new SQLite database file.\n",
        "2. Expand on the existing chunk processing code to export each chunk to a new table in the SQLite database.\n",
        "3. Query the table and make sure the data types match up to what you had in mind for each column."
      ]
    },
    {
      "cell_type": "markdown",
      "source": [
        "*We read the csv file in chunks of 5000 rows at a time using pandas' read_csv method. We then connect to a SQLite database with the connection object \"conn\", and for each chunk, we write the chunk to an SQLite table called \"exhibitions\". After writing each chunk, we run a SQL query \"PRAGMA table_info(exhibitions);\" to retrieve the table information for the \"exhibitions\" table, and store the results in a Pandas dataframe called \"results_df\". Finally, we prints the \"results_df\" dataframe.*"
      ],
      "metadata": {
        "id": "GnRvRNeUjWD9"
      }
    },
    {
      "cell_type": "code",
      "metadata": {
        "id": "QH-j6fuXdu0v",
        "colab": {
          "base_uri": "https://localhost:8080/"
        },
        "outputId": "9365b5c8-1e36-413c-e382-e0a825d46afe"
      },
      "source": [
        "# Your code goes here\n",
        "# Your code goes here\n",
        "import sqlite3\n",
        "import pandas as pd\n",
        "crunchbase_iter = pd.read_csv(url, encoding='unicode_escape', chunksize = 5000)\n",
        "conn = sqlite3.connect('crunchbase_iter')\n",
        "for chunk in crunchbase_iter:\n",
        "    chunk.to_sql(\"exhibitions\", conn, if_exists='append', index=False)\n",
        "    results_df = pd.read_sql('PRAGMA table_info(exhibitions);', conn)\n",
        "print(results_df)\n"
      ],
      "execution_count": null,
      "outputs": [
        {
          "output_type": "stream",
          "name": "stdout",
          "text": [
            "    cid                    name     type  notnull dflt_value  pk\n",
            "0     0       company_permalink     TEXT        0       None   0\n",
            "1     1            company_name     TEXT        0       None   0\n",
            "2     2   company_category_code     TEXT        0       None   0\n",
            "3     3    company_country_code     TEXT        0       None   0\n",
            "4     4      company_state_code     TEXT        0       None   0\n",
            "5     5          company_region     TEXT        0       None   0\n",
            "6     6            company_city     TEXT        0       None   0\n",
            "7     7      investor_permalink     TEXT        0       None   0\n",
            "8     8           investor_name     TEXT        0       None   0\n",
            "9     9  investor_category_code     TEXT        0       None   0\n",
            "10   10   investor_country_code     TEXT        0       None   0\n",
            "11   11     investor_state_code     TEXT        0       None   0\n",
            "12   12         investor_region     TEXT        0       None   0\n",
            "13   13           investor_city     TEXT        0       None   0\n",
            "14   14      funding_round_type     TEXT        0       None   0\n",
            "15   15               funded_at     TEXT        0       None   0\n",
            "16   16            funded_month     TEXT        0       None   0\n",
            "17   17          funded_quarter     TEXT        0       None   0\n",
            "18   18             funded_year  INTEGER        0       None   0\n",
            "19   19       raised_amount_usd     REAL        0       None   0\n"
          ]
        }
      ]
    },
    {
      "cell_type": "markdown",
      "metadata": {
        "id": "Rt1jPEhseD8r"
      },
      "source": [
        "## Question 4: Next Steps"
      ]
    },
    {
      "cell_type": "markdown",
      "metadata": {
        "id": "Ggt-hEebeJGr"
      },
      "source": [
        "Now that the data is in SQLite, we can use the pandas SQLite workflow we learned in the last lesson to explore and analyze startup investments. Remember that each row isn't a unique company, but a unique investment from a single investor. This means that many startups will span multiple rows.\n",
        "\n",
        "Use the pandas SQLite workflow to answer the following questions:\n",
        "\n",
        "* What proportion of the total amount of funds did the top 10% raise? What about the top 1%? Compare these values to the proportions the bottom 10% and bottom 1% raised.\n",
        "* Which category of company attracted the most investments?\n",
        "* Which investor contributed the most money (across all startups)?\n",
        "* Which investors contributed the most money per startup?\n",
        "* Which funding round was the most popular? Which was the least popular?\n",
        "\n",
        "Here are some ideas for further exploration:\n",
        "\n",
        "* Repeat the tasks in this project using stricter memory constraints (under 1 megabyte).\n",
        "* Clean and analyze the other Crunchbase data sets from the same GitHub repo.\n",
        "* Understand which columns the data sets share, and how the data sets are linked.\n",
        "* Create a relational database design that links the data sets together and reduces the overall disk space the database file consumes.\n",
        "\n",
        "Use pandas to populate each table in the database, create the appropriate indexes, and so on."
      ]
    },
    {
      "cell_type": "markdown",
      "source": [
        "# What proportion of the total amount of funds did the top 10% raise? What about the top 1%? Compare these values to the proportions the bottom 10% and bottom 1% raised."
      ],
      "metadata": {
        "id": "p567cFFYjy3j"
      }
    },
    {
      "cell_type": "markdown",
      "source": [
        "Total amount of funds raised by the top 10% and top 1%"
      ],
      "metadata": {
        "id": "vwGCx_qNmUMW"
      }
    },
    {
      "cell_type": "markdown",
      "source": [
        "*We execute an SQL query on the crunchbase_iter SQLite database, which we have been reading the data from a CSV file into in chunks and storing in the database. We then select the raised_amount_usd column and count the number of occurrences of each unique value in the raised_amount_usd column and store the results in the eid_counts DataFrame. The query groups the data by raised_amount_usd and orders the results by counts in descending order. Finally, it prints the first 10 rows of the eid_counts DataFrame.*"
      ],
      "metadata": {
        "id": "ZfGnBBNwlBoc"
      }
    },
    {
      "cell_type": "code",
      "metadata": {
        "id": "FJo2f7N-ebgX",
        "colab": {
          "base_uri": "https://localhost:8080/"
        },
        "outputId": "bc01acfe-f08c-41b8-a9ad-a2a701a2b664"
      },
      "source": [
        "# Your code goes here\n",
        "question = 'select raised_amount_usd, count(*) as counts from exhibitions group by raised_amount_usd  order by counts desc;'\n",
        "eid_counts = pd.read_sql(question, conn)\n",
        "print(eid_counts[:10])\n",
        "\n"
      ],
      "execution_count": null,
      "outputs": [
        {
          "output_type": "stream",
          "name": "stdout",
          "text": [
            "   raised_amount_usd  counts\n",
            "0                NaN    3599\n",
            "1         10000000.0    2067\n",
            "2          1000000.0    1760\n",
            "3          5000000.0    1589\n",
            "4         15000000.0    1420\n",
            "5         20000000.0    1312\n",
            "6          2000000.0    1253\n",
            "7          1500000.0    1247\n",
            "8          3000000.0    1204\n",
            "9          6000000.0    1148\n"
          ]
        }
      ]
    },
    {
      "cell_type": "markdown",
      "source": [
        "Total amount of funds raised by the bottom 10% and bottom 1%"
      ],
      "metadata": {
        "id": "jRSeCQj7mAUT"
      }
    },
    {
      "cell_type": "markdown",
      "source": [
        "*We connect to the SQLite database and use a pandas DataFrame to store the results of the SQL query. We store the query in the variable 'question', which selects the 'raised_amount_usd' column and counts the number of rows for each unique value in that column. The result is stored in a pandas DataFrame called 'eid_counts', which is sorted in ascending order by the count of rows for each unique 'raised_amount_usd' value. Finally, we print the first 10 rows of the 'eid_counts' DataFrame.*"
      ],
      "metadata": {
        "id": "wMpnO_E0mAkr"
      }
    },
    {
      "cell_type": "code",
      "source": [
        "question = 'select raised_amount_usd , count(*) as counts from exhibitions group by raised_amount_usd  order by counts asc;'\n",
        "eid_counts = pd.read_sql(question, conn)\n",
        "print(eid_counts[:10])\n",
        "     "
      ],
      "metadata": {
        "colab": {
          "base_uri": "https://localhost:8080/"
        },
        "id": "Oo57BJSzmAw0",
        "outputId": "a3d00118-e21e-4c83-b5f9-33eb8b3444a9"
      },
      "execution_count": null,
      "outputs": [
        {
          "output_type": "stream",
          "name": "stdout",
          "text": [
            "   raised_amount_usd  counts\n",
            "0             2100.0       1\n",
            "1             5500.0       1\n",
            "2             5600.0       1\n",
            "3             6000.0       1\n",
            "4             8300.0       1\n",
            "5            11600.0       1\n",
            "6            11800.0       1\n",
            "7            13200.0       1\n",
            "8            15282.0       1\n",
            "9            16500.0       1\n"
          ]
        }
      ]
    },
    {
      "cell_type": "markdown",
      "source": [
        "# Which category of company attracted the most investments?"
      ],
      "metadata": {
        "id": "iwubqmQsoD6S"
      }
    },
    {
      "cell_type": "markdown",
      "source": [
        "Top 5 companies with the largest investments"
      ],
      "metadata": {
        "id": "FMdwlExxoIIb"
      }
    },
    {
      "cell_type": "markdown",
      "source": [
        "*We execute an SQL query using the pd.read_sql function from the pandas library. The query is selecting the company_category_code column and counting the number of occurrences of each unique value in the column. The result is grouped by the raised_amount_usd column and ordered by the count in descending order to identify the best companies from the top. The resulting data is then displayed with the first 10 rows printed to the console using the print function.*"
      ],
      "metadata": {
        "id": "OC7DS3WWoIg7"
      }
    },
    {
      "cell_type": "code",
      "source": [
        "query = 'select company_category_code , count(*) as counts from exhibitions group by raised_amount_usd  order by counts desc;'\n",
        "eid_counts = pd.read_sql(query, conn)\n",
        "print(eid_counts[:5])"
      ],
      "metadata": {
        "colab": {
          "base_uri": "https://localhost:8080/"
        },
        "id": "e6NFuex0oIss",
        "outputId": "c20cee60-de3a-41d2-9b55-808a881dfed7"
      },
      "execution_count": null,
      "outputs": [
        {
          "output_type": "stream",
          "name": "stdout",
          "text": [
            "  company_category_code  counts\n",
            "0                travel    3599\n",
            "1             cleantech    2067\n",
            "2                   web    1760\n",
            "3                mobile    1589\n",
            "4               biotech    1420\n"
          ]
        }
      ]
    },
    {
      "cell_type": "markdown",
      "source": [
        "# Which investor contributed the most money (across all startups)?"
      ],
      "metadata": {
        "id": "Rk7XWRutpMde"
      }
    },
    {
      "cell_type": "markdown",
      "source": [
        "*We execute an SQL query on the SQLite database created, selecting the \"investor_name\" column and counting the number of occurrences of each unique value of investor name (grouped by the \"raised_amount_usd\" and \"company_name\" columns). The result is ordered by the count in descending order. Finally, we print the first 10 rows of the resulting DataFrame.*"
      ],
      "metadata": {
        "id": "xyQxATXRpMpc"
      }
    },
    {
      "cell_type": "code",
      "source": [
        "q = 'select investor_name , count(*) as counts from exhibitions group by raised_amount_usd and company_name order by counts desc;'\n",
        "eid_counts = pd.read_sql(q, conn)\n",
        "print(eid_counts[:10])"
      ],
      "metadata": {
        "colab": {
          "base_uri": "https://localhost:8080/"
        },
        "id": "cxIrJ25CpNA1",
        "outputId": "99917054-f4ba-49bf-d19e-ab1b63591054"
      },
      "execution_count": null,
      "outputs": [
        {
          "output_type": "stream",
          "name": "stdout",
          "text": [
            "                    investor_name  counts\n",
            "0               1-800-FLOWERS.COM   52528\n",
            "1  American Pioneer Ventures, Ltd     321\n",
            "2                      Amplify.LA      21\n"
          ]
        }
      ]
    },
    {
      "cell_type": "markdown",
      "source": [
        "# Which investors contributed the most money per startup?"
      ],
      "metadata": {
        "id": "MXTHsv0SpM47"
      }
    },
    {
      "cell_type": "markdown",
      "source": [
        "*We execute an SQL query on a database connection conn and retrieve the results of the query into a pandas dataframe eid_counts. The query selects the investor_name, raised_amount_usd, and the count of records with the same raised_amount_usd, and groups the results by raised_amount_usd and orders them in descending order. We then print the first 10 rows of the resulting dataframe.*"
      ],
      "metadata": {
        "id": "xMAvN_jZrRPF"
      }
    },
    {
      "cell_type": "code",
      "source": [
        "query = 'select investor_name,raised_amount_usd , count(*) as counts from exhibitions group by raised_amount_usd order by raised_amount_usd  desc;'\n",
        "eid_counts = pd.read_sql(query, conn)\n",
        "print(eid_counts[:10])"
      ],
      "metadata": {
        "colab": {
          "base_uri": "https://localhost:8080/"
        },
        "id": "yFSeD0O_pNSb",
        "outputId": "1bd4ceb0-f08c-4ce8-94fe-f0d878427e52"
      },
      "execution_count": null,
      "outputs": [
        {
          "output_type": "stream",
          "name": "stdout",
          "text": [
            "               investor_name  raised_amount_usd  counts\n",
            "0                BrightHouse       3.200000e+09       5\n",
            "1     Marlin Equity Partners       2.600000e+09       1\n",
            "2                BrightHouse       1.500000e+09       8\n",
            "3                GI Partners       1.050000e+09       2\n",
            "4                     Google       1.000000e+09       1\n",
            "5        Andreessen Horowitz       9.500000e+08      10\n",
            "6                    Comcast       9.200000e+08       5\n",
            "7       Siemens PLM Software       7.500000e+08       1\n",
            "8              Goldman Sachs       5.650000e+08       1\n",
            "9  U.S. Department of Energy       5.350000e+08       1\n"
          ]
        }
      ]
    },
    {
      "cell_type": "markdown",
      "source": [
        "# Which funding round was the most popular? Which was the least popular?"
      ],
      "metadata": {
        "id": "QUvQl1aepNnL"
      }
    },
    {
      "cell_type": "markdown",
      "source": [
        "Most popular funding round"
      ],
      "metadata": {
        "id": "0SnsEFJIq1Rc"
      }
    },
    {
      "cell_type": "markdown",
      "source": [
        "*We are executing an SQL query and retrieving the results of the query into a pandas dataframe eid_counts. The query selects the funding_round_type and the count of records with the same funding_round_type, and groups the results by funding_round_type and orders them in descending order by the count of records. We then prints the first 10 rows of the resulting dataframe.*"
      ],
      "metadata": {
        "id": "oTlvIh_ismd9"
      }
    },
    {
      "cell_type": "code",
      "source": [
        "query = 'select funding_round_type , count(*) as counts from exhibitions group by funding_round_type order by counts desc;'\n",
        "eid_counts = pd.read_sql(query, conn)\n",
        "print(eid_counts[:10])"
      ],
      "metadata": {
        "colab": {
          "base_uri": "https://localhost:8080/"
        },
        "id": "KmDfzE7oqtDk",
        "outputId": "51d809b8-cd4d-450c-9e41-b5c0c5487f7f"
      },
      "execution_count": null,
      "outputs": [
        {
          "output_type": "stream",
          "name": "stdout",
          "text": [
            "  funding_round_type  counts\n",
            "0           series-a   13938\n",
            "1          series-c+   10870\n",
            "2              angel    8989\n",
            "3            venture    8917\n",
            "4           series-b    8794\n",
            "5              other     964\n",
            "6     private-equity     357\n",
            "7           post-ipo      33\n",
            "8       crowdfunding       5\n",
            "9               None       3\n"
          ]
        }
      ]
    },
    {
      "cell_type": "markdown",
      "source": [
        "Least popular funding round\n",
        "\n"
      ],
      "metadata": {
        "id": "24qhXTHTqQ58"
      }
    },
    {
      "cell_type": "markdown",
      "source": [
        "*We are executing an SQL query on a database and retrieving the results of the query into a pandas dataframe eid_counts. The query selects the funding_round_type and the count of records with the same funding_round_type, and groups the results by funding_round_type and orders them in ascending order by the count of records. We then prints the first 10 rows of the resulting dataframe.*"
      ],
      "metadata": {
        "id": "_i-EOT8-s39t"
      }
    },
    {
      "cell_type": "code",
      "source": [
        "query = 'select funding_round_type , count(*) as counts from exhibitions group by funding_round_type order by counts asc;'\n",
        "eid_counts = pd.read_sql(query, conn)\n",
        "print(eid_counts[:10])"
      ],
      "metadata": {
        "colab": {
          "base_uri": "https://localhost:8080/"
        },
        "id": "SLBocrC9qxzs",
        "outputId": "872809c7-bd4b-41ab-f487-2a39f831ff8b"
      },
      "execution_count": null,
      "outputs": [
        {
          "output_type": "stream",
          "name": "stdout",
          "text": [
            "  funding_round_type  counts\n",
            "0               None       3\n",
            "1       crowdfunding       5\n",
            "2           post-ipo      33\n",
            "3     private-equity     357\n",
            "4              other     964\n",
            "5           series-b    8794\n",
            "6            venture    8917\n",
            "7              angel    8989\n",
            "8          series-c+   10870\n",
            "9           series-a   13938\n"
          ]
        }
      ]
    }
  ]
}